{
 "cells": [
  {
   "cell_type": "code",
   "execution_count": 2,
   "metadata": {},
   "outputs": [
    {
     "name": "stdout",
     "output_type": "stream",
     "text": [
      "Collecting bitfinex-tencars\n",
      "  Using cached bitfinex_tencars-0.0.3-py3-none-any.whl (7.6 kB)\n",
      "Installing collected packages: bitfinex-tencars\n",
      "Successfully installed bitfinex-tencars-0.0.3\n",
      "\n",
      "\u001b[1m[\u001b[0m\u001b[34;49mnotice\u001b[0m\u001b[1;39;49m]\u001b[0m\u001b[39;49m A new release of pip is available: \u001b[0m\u001b[31;49m23.0.1\u001b[0m\u001b[39;49m -> \u001b[0m\u001b[32;49m23.3.2\u001b[0m\n",
      "\u001b[1m[\u001b[0m\u001b[34;49mnotice\u001b[0m\u001b[1;39;49m]\u001b[0m\u001b[39;49m To update, run: \u001b[0m\u001b[32;49mpython3.11 -m pip install --upgrade pip\u001b[0m\n",
      "Note: you may need to restart the kernel to use updated packages.\n"
     ]
    }
   ],
   "source": [
    "pip install bitfinex-tencars\n"
   ]
  },
  {
   "cell_type": "code",
   "execution_count": 19,
   "metadata": {},
   "outputs": [
    {
     "name": "stdout",
     "output_type": "stream",
     "text": [
      "No keys, only access to public API functions\n"
     ]
    }
   ],
   "source": [
    "import bitfinex\n",
    "import datetime\n",
    "import time\n",
    "import pytz\n",
    "import pandas as pd\n",
    " \n",
    "# Create api instance of the v2 API\n",
    "api_v2 = bitfinex.bitfinex_v2.api_v2()"
   ]
  },
  {
   "cell_type": "code",
   "execution_count": 20,
   "metadata": {},
   "outputs": [],
   "source": [
    "def create_dataframe(data):\n",
    "    \n",
    "    # Define column names\n",
    "    columns = ['timestamp', 'open', 'high', 'low', 'close', 'volume']\n",
    "    \n",
    "    # Create DataFrame\n",
    "    df = pd.DataFrame(data, columns=columns)\n",
    "    \n",
    "    # Convert timestamp to datetime\n",
    "    df['timestamp'] = pd.to_datetime(df['timestamp'], unit='ms')\n",
    "\n",
    "    # Sort DataFrame by timestamp in ascending order\n",
    "    df = df.sort_values(by='timestamp', ascending=True)\n",
    "    \n",
    "    return df"
   ]
  },
  {
   "cell_type": "code",
   "execution_count": 21,
   "metadata": {},
   "outputs": [],
   "source": [
    "time_step = 24\n",
    "\n",
    "# Define the start date in UTC\n",
    "t_start = datetime.datetime(2018, 1, 1, 0, 0, tzinfo=pytz.UTC)\n",
    "t_start = int(time.mktime(t_start.timetuple()) * 1000)\n",
    "\n",
    "# Define the end date in UTC\n",
    "t_stop = datetime.datetime(2018, 1, 11, 0, 0, tzinfo=pytz.UTC)\n",
    "t_stop = int(time.mktime(t_stop.timetuple()) * 1000)\n",
    "\n",
    "# Your specified configurations\n",
    "pair = 'btcusd'\n",
    "bin_size = '1h'\n",
    "limit = 1000\n",
    "\n",
    "# Fetch data\n",
    "result = api_v2.candles(symbol=pair, interval=bin_size, limit=limit, start=t_start, end=t_stop)\n"
   ]
  },
  {
   "cell_type": "code",
   "execution_count": 22,
   "metadata": {},
   "outputs": [],
   "source": [
    "df_test = create_dataframe(result)"
   ]
  },
  {
   "cell_type": "code",
   "execution_count": 23,
   "metadata": {},
   "outputs": [
    {
     "data": {
      "text/plain": [
       "240"
      ]
     },
     "execution_count": 23,
     "metadata": {},
     "output_type": "execute_result"
    }
   ],
   "source": [
    "len(df_test)"
   ]
  },
  {
   "cell_type": "code",
   "execution_count": 24,
   "metadata": {},
   "outputs": [
    {
     "name": "stdout",
     "output_type": "stream",
     "text": [
      "              timestamp     open     high      low    close       volume\n",
      "239 2017-12-31 19:00:00  13784.0  13859.0  13949.0  13757.0   792.807341\n",
      "238 2017-12-31 20:00:00  13858.0  14036.0  14210.0  13838.0  1815.736795\n",
      "237 2017-12-31 21:00:00  14039.0  13921.0  14049.0  13837.0  1047.086957\n",
      "236 2017-12-31 22:00:00  13920.0  13853.0  14018.0  13751.0   805.512424\n",
      "235 2017-12-31 23:00:00  13853.0  13769.0  13899.0  13730.0  1005.340195\n"
     ]
    }
   ],
   "source": [
    "print(df_test.head())"
   ]
  },
  {
   "cell_type": "code",
   "execution_count": 25,
   "metadata": {},
   "outputs": [
    {
     "name": "stdout",
     "output_type": "stream",
     "text": [
      "            timestamp     open     high      low    close       volume\n",
      "4 2018-01-10 14:00:00  13812.0  13684.0  13872.0  13510.0  2016.810116\n",
      "3 2018-01-10 15:00:00  13685.0  14336.0  14498.0  13676.0  8168.506545\n",
      "2 2018-01-10 16:00:00  14336.0  14428.0  14650.0  14336.0  3947.004177\n",
      "1 2018-01-10 17:00:00  14427.0  14544.0  14555.0  14226.0  1826.706862\n",
      "0 2018-01-10 18:00:00  14545.0  14506.0  14682.0  14374.0  1689.073440\n"
     ]
    }
   ],
   "source": [
    "print(df_test.tail())"
   ]
  },
  {
   "cell_type": "code",
   "execution_count": null,
   "metadata": {},
   "outputs": [],
   "source": []
  }
 ],
 "metadata": {
  "kernelspec": {
   "display_name": "Python 3.11.3 64-bit",
   "language": "python",
   "name": "python3"
  },
  "language_info": {
   "codemirror_mode": {
    "name": "ipython",
    "version": 3
   },
   "file_extension": ".py",
   "mimetype": "text/x-python",
   "name": "python",
   "nbconvert_exporter": "python",
   "pygments_lexer": "ipython3",
   "version": "3.11.3"
  },
  "orig_nbformat": 4,
  "vscode": {
   "interpreter": {
    "hash": "b0fa6594d8f4cbf19f97940f81e996739fb7646882a419484c72d19e05852a7e"
   }
  }
 },
 "nbformat": 4,
 "nbformat_minor": 2
}
